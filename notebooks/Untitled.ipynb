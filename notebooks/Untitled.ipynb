{
 "cells": [
  {
   "cell_type": "code",
   "execution_count": 1,
   "id": "7f7d2df5",
   "metadata": {},
   "outputs": [],
   "source": [
    "%matplotlib notebook\n",
    "\n",
    "import numpy as np\n",
    "import matplotlib.pyplot as plt\n",
    "from time import sleep\n",
    "\n",
    "import jupyros as jr \n",
    "import rclpy as rp\n",
    "\n",
    "from nav_msgs.msg import Odometry\n",
    "\n",
    "# from brov2_landmark_detector import landmark_detector_1D_node as node\n",
    "from brov2_interfaces.msg import SonarProcessed"
   ]
  },
  {
   "cell_type": "code",
   "execution_count": 2,
   "id": "fe44a41f",
   "metadata": {},
   "outputs": [],
   "source": [
    "rp.init()\n",
    "sonar_processed_saver = rp.create_node(\"sonar_processed_saver\")"
   ]
  },
  {
   "cell_type": "code",
   "execution_count": 3,
   "id": "092d5d12",
   "metadata": {},
   "outputs": [],
   "source": [
    "class MsgSaver:\n",
    "    def __init__(self):\n",
    "        self.msgs = []\n",
    "        \n",
    "    def save_msg(self, msg):\n",
    "        self.msgs.append(msg)"
   ]
  },
  {
   "cell_type": "code",
   "execution_count": 4,
   "id": "ecfe6c38",
   "metadata": {},
   "outputs": [],
   "source": [
    "tautra_data = MsgSaver()\n",
    "hercules_data = MsgSaver()"
   ]
  },
  {
   "cell_type": "code",
   "execution_count": 5,
   "id": "c1461700",
   "metadata": {},
   "outputs": [],
   "source": [
    "from typing import TypeVar\n",
    "import numpy as np\n",
    "import bqplot as bq\n",
    "from rclpy.node import Node\n",
    "\n",
    "class MsgPublisher(jr.Publisher):\n",
    "    def __init__(self, node: Node, msg_type, topic: str) -> None:\n",
    "        super().__init__(node, msg_type, topic)\n",
    "        \n",
    "    def send_msg(self, msg) -> None:\n",
    "        self._Publisher__publisher.publish(msg)\n",
    "        "
   ]
  },
  {
   "cell_type": "code",
   "execution_count": 6,
   "id": "3de035fd",
   "metadata": {},
   "outputs": [],
   "source": [
    "msg_publisher = MsgPublisher(sonar_processed_saver, SonarProcessed, '/sonar_processed')"
   ]
  },
  {
   "cell_type": "code",
   "execution_count": 7,
   "id": "0e0f9154",
   "metadata": {},
   "outputs": [
    {
     "data": {
      "application/vnd.jupyter.widget-view+json": {
       "model_id": "b2e4efed3cfd4993a2436454ddb8ca3e",
       "version_major": 2,
       "version_minor": 0
      },
      "text/plain": [
       "VBox(children=(HBox(children=(Button(description='Start', style=ButtonStyle()), Button(description='Stop', sty…"
      ]
     },
     "metadata": {},
     "output_type": "display_data"
    }
   ],
   "source": [
    "jr.Subscriber(sonar_processed_saver, SonarProcessed, '/sonar_processed', hercules_data.save_msg).display()"
   ]
  },
  {
   "cell_type": "code",
   "execution_count": 8,
   "id": "411a080a",
   "metadata": {},
   "outputs": [
    {
     "data": {
      "text/plain": [
       "0"
      ]
     },
     "execution_count": 8,
     "metadata": {},
     "output_type": "execute_result"
    }
   ],
   "source": [
    "len(tautra_data.msgs)\n",
    "# Useless data"
   ]
  },
  {
   "cell_type": "code",
   "execution_count": null,
   "id": "993510c3",
   "metadata": {},
   "outputs": [],
   "source": [
    "n_pub = 0\n",
    "for msg in hercules_data.msgs:\n",
    "    msg_publisher.send_msg(msg)\n",
    "    n_pub += 1\n",
    "    sleep(0.01)"
   ]
  },
  {
   "cell_type": "code",
   "execution_count": 41,
   "id": "a38cd886",
   "metadata": {},
   "outputs": [
    {
     "data": {
      "text/plain": [
       "16377"
      ]
     },
     "execution_count": 41,
     "metadata": {},
     "output_type": "execute_result"
    }
   ],
   "source": [
    "len(hercules_data.msgs)\n"
   ]
  },
  {
   "cell_type": "code",
   "execution_count": null,
   "id": "34c110ee",
   "metadata": {},
   "outputs": [],
   "source": []
  }
 ],
 "metadata": {
  "kernelspec": {
   "display_name": "Python 3 (ipykernel)",
   "language": "python",
   "name": "python3"
  },
  "language_info": {
   "codemirror_mode": {
    "name": "ipython",
    "version": 3
   },
   "file_extension": ".py",
   "mimetype": "text/x-python",
   "name": "python",
   "nbconvert_exporter": "python",
   "pygments_lexer": "ipython3",
   "version": "3.8.10"
  }
 },
 "nbformat": 4,
 "nbformat_minor": 5
}
