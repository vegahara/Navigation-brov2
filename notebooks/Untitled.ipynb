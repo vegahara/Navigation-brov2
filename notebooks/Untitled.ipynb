{
 "cells": [
  {
   "cell_type": "code",
   "execution_count": 1,
   "id": "7f7d2df5",
   "metadata": {},
   "outputs": [],
   "source": [
    "%matplotlib notebook\n",
    "\n",
    "import numpy as np\n",
    "import matplotlib.pyplot as plt\n",
    "from time import sleep\n",
    "\n",
    "import jupyros as jr \n",
    "import rclpy as rp\n",
    "\n",
    "from nav_msgs.msg import Odometry\n",
    "\n",
    "from brov2_interfaces.msg import SonarProcessed"
   ]
  },
  {
   "cell_type": "code",
   "execution_count": 2,
   "id": "fe44a41f",
   "metadata": {},
   "outputs": [],
   "source": [
    "rp.init()\n",
    "\n",
    "sonar_processed_saver_raw_test = rp.create_node(\"sonar_processed_saver_raw_test\")\n",
    "sonar_processed_saver_norm_test = rp.create_node(\"sonar_processed_saver_norm_test\")\n",
    "\n",
    "sonar_processed_saver_raw_training = rp.create_node(\"sonar_processed_saver_raw_training\")\n",
    "sonar_processed_saver_norm_training = rp.create_node(\"sonar_processed_saver_norm_training\")"
   ]
  },
  {
   "cell_type": "code",
   "execution_count": 3,
   "id": "092d5d12",
   "metadata": {},
   "outputs": [],
   "source": [
    "class MsgSaver:\n",
    "    def __init__(self):\n",
    "        self.msgs = []\n",
    "        \n",
    "    def save_msg(self, msg):\n",
    "        self.msgs.append(msg)"
   ]
  },
  {
   "cell_type": "code",
   "execution_count": 4,
   "id": "ecfe6c38",
   "metadata": {},
   "outputs": [],
   "source": [
    "test_raw_hercules_data = MsgSaver()\n",
    "test_normalized_hercules_data = MsgSaver()\n",
    "\n",
    "training_raw_hercules_data = MsgSaver()\n",
    "training_normalized_hercules_data = MsgSaver()"
   ]
  },
  {
   "cell_type": "code",
   "execution_count": 5,
   "id": "c1461700",
   "metadata": {},
   "outputs": [],
   "source": [
    "from typing import TypeVar\n",
    "import numpy as np\n",
    "import bqplot as bq\n",
    "from rclpy.node import Node\n",
    "\n",
    "class MsgPublisher(jr.Publisher):\n",
    "    def __init__(self, node: Node, msg_type, topic: str) -> None:\n",
    "        super().__init__(node, msg_type, topic)\n",
    "        \n",
    "    def send_msg(self, msg) -> None:\n",
    "        self._Publisher__publisher.publish(msg)\n",
    "        "
   ]
  },
  {
   "cell_type": "code",
   "execution_count": 6,
   "id": "3de035fd",
   "metadata": {},
   "outputs": [],
   "source": [
    "msg_publisher_raw_test = MsgPublisher(sonar_processed_saver_raw_test, SonarProcessed, '/sonar_processed')\n",
    "msg_publisher_norm_test = MsgPublisher(sonar_processed_saver_norm_test, SonarProcessed, '/sonar_processed')\n",
    "\n",
    "msg_publisher_raw_training = MsgPublisher(sonar_processed_saver_raw_training, SonarProcessed, '/sonar_processed')\n",
    "msg_publisher_norm_training = MsgPublisher(sonar_processed_saver_norm_training, SonarProcessed, '/sonar_processed')"
   ]
  },
  {
   "cell_type": "code",
   "execution_count": 7,
   "id": "0e0f9154",
   "metadata": {},
   "outputs": [
    {
     "data": {
      "application/vnd.jupyter.widget-view+json": {
       "model_id": "3c18e9913d26460981a09c3dfe4f630e",
       "version_major": 2,
       "version_minor": 0
      },
      "text/plain": [
       "VBox(children=(HBox(children=(Button(description='Start', style=ButtonStyle()), Button(description='Stop', sty…"
      ]
     },
     "metadata": {},
     "output_type": "display_data"
    }
   ],
   "source": [
    "jr.Subscriber(sonar_processed_saver_raw_test, SonarProcessed, '/sonar_processed_raw', test_raw_hercules_data.save_msg).display()"
   ]
  },
  {
   "cell_type": "code",
   "execution_count": 8,
   "id": "c1e46100",
   "metadata": {},
   "outputs": [
    {
     "data": {
      "application/vnd.jupyter.widget-view+json": {
       "model_id": "af0d3f9a5dfe4b8faa364695422f3ec3",
       "version_major": 2,
       "version_minor": 0
      },
      "text/plain": [
       "VBox(children=(HBox(children=(Button(description='Start', style=ButtonStyle()), Button(description='Stop', sty…"
      ]
     },
     "metadata": {},
     "output_type": "display_data"
    }
   ],
   "source": [
    "jr.Subscriber(sonar_processed_saver_norm_test, SonarProcessed, '/sonar_processed', test_normalized_hercules_data.save_msg).display()"
   ]
  },
  {
   "cell_type": "code",
   "execution_count": 9,
   "id": "cf43ae64",
   "metadata": {
    "scrolled": true
   },
   "outputs": [
    {
     "data": {
      "application/vnd.jupyter.widget-view+json": {
       "model_id": "93ef9293f0c94407b3db32eee912d05e",
       "version_major": 2,
       "version_minor": 0
      },
      "text/plain": [
       "VBox(children=(HBox(children=(Button(description='Start', style=ButtonStyle()), Button(description='Stop', sty…"
      ]
     },
     "metadata": {},
     "output_type": "display_data"
    }
   ],
   "source": [
    "jr.Subscriber(sonar_processed_saver_raw_training, SonarProcessed, '/sonar_processed_raw', training_raw_hercules_data.save_msg).display()\n"
   ]
  },
  {
   "cell_type": "code",
   "execution_count": 10,
   "id": "b493a0bf",
   "metadata": {},
   "outputs": [
    {
     "data": {
      "application/vnd.jupyter.widget-view+json": {
       "model_id": "8b7e81708a994ab3a28e832fe8abf37f",
       "version_major": 2,
       "version_minor": 0
      },
      "text/plain": [
       "VBox(children=(HBox(children=(Button(description='Start', style=ButtonStyle()), Button(description='Stop', sty…"
      ]
     },
     "metadata": {},
     "output_type": "display_data"
    }
   ],
   "source": [
    "jr.Subscriber(sonar_processed_saver_norm_training, SonarProcessed, '/sonar_processed', training_normalized_hercules_data.save_msg).display()"
   ]
  },
  {
   "cell_type": "code",
   "execution_count": 28,
   "id": "993510c3",
   "metadata": {},
   "outputs": [],
   "source": [
    "n_pub = 0\n",
    "for msg in training_normalized_hercules_data.msgs:\n",
    "    msg_publisher_norm_training.send_msg(msg)\n",
    "    n_pub += 1\n",
    "    sleep(0.01)"
   ]
  },
  {
   "cell_type": "code",
   "execution_count": 29,
   "id": "295f5ba1",
   "metadata": {},
   "outputs": [],
   "source": [
    "n_pub = 0\n",
    "for msg in test_normalized_hercules_data.msgs:\n",
    "    msg_publisher_norm_test.send_msg(msg)\n",
    "    n_pub += 1\n",
    "    sleep(0.01)"
   ]
  },
  {
   "cell_type": "code",
   "execution_count": 12,
   "id": "9d20005c",
   "metadata": {},
   "outputs": [],
   "source": [
    "n_pub = 0\n",
    "for msg in training_raw_hercules_data.msgs:\n",
    "    msg_publisher_raw_training.send_msg(msg)\n",
    "    n_pub += 1\n",
    "    sleep(0.01)"
   ]
  },
  {
   "cell_type": "code",
   "execution_count": null,
   "id": "11b10f24",
   "metadata": {},
   "outputs": [],
   "source": [
    "n_pub = 0\n",
    "for msg in test_raw_hercules_data.msgs:\n",
    "    msg_publisher_raw_test.send_msg(msg)\n",
    "    n_pub += 1\n",
    "    sleep(0.01)"
   ]
  },
  {
   "cell_type": "code",
   "execution_count": 26,
   "id": "a38cd886",
   "metadata": {},
   "outputs": [
    {
     "name": "stdout",
     "output_type": "stream",
     "text": [
      "0\n",
      "4890\n",
      "0\n",
      "3015\n"
     ]
    }
   ],
   "source": [
    "print(len(training_raw_hercules_data.msgs))\n",
    "print(len(training_normalized_hercules_data.msgs))\n",
    "print(len(test_raw_hercules_data.msgs))\n",
    "print(len(test_normalized_hercules_data.msgs))"
   ]
  }
 ],
 "metadata": {
  "kernelspec": {
   "display_name": "Python 3 (ipykernel)",
   "language": "python",
   "name": "python3"
  },
  "language_info": {
   "codemirror_mode": {
    "name": "ipython",
    "version": 3
   },
   "file_extension": ".py",
   "mimetype": "text/x-python",
   "name": "python",
   "nbconvert_exporter": "python",
   "pygments_lexer": "ipython3",
   "version": "3.8.10"
  }
 },
 "nbformat": 4,
 "nbformat_minor": 5
}
