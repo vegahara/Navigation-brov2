{
 "cells": [
  {
   "cell_type": "code",
   "execution_count": 1,
   "id": "7f7d2df5",
   "metadata": {},
   "outputs": [],
   "source": [
    "%matplotlib notebook\n",
    "\n",
    "import numpy as np\n",
    "import matplotlib.pyplot as plt\n",
    "from time import sleep\n",
    "\n",
    "import jupyros as jr \n",
    "import rclpy as rp\n",
    "\n",
    "from nav_msgs.msg import Odometry\n",
    "\n",
    "# from brov2_landmark_detector import landmark_detector_1D_node as node\n",
    "from brov2_interfaces.msg import SonarProcessed"
   ]
  },
  {
   "cell_type": "code",
   "execution_count": 2,
   "id": "fe44a41f",
   "metadata": {},
   "outputs": [],
   "source": [
    "rp.init()\n",
    "sonar_processed_saver_raw = rp.create_node(\"sonar_processed_saver_raw\")\n",
    "sonar_processed_saver_norm = rp.create_node(\"sonar_processed_saver_norm\")"
   ]
  },
  {
   "cell_type": "code",
   "execution_count": 3,
   "id": "092d5d12",
   "metadata": {},
   "outputs": [],
   "source": [
    "class MsgSaver:\n",
    "    def __init__(self):\n",
    "        self.msgs = []\n",
    "        \n",
    "    def save_msg(self, msg):\n",
    "        self.msgs.append(msg)"
   ]
  },
  {
   "cell_type": "code",
   "execution_count": 4,
   "id": "ecfe6c38",
   "metadata": {},
   "outputs": [],
   "source": [
    "raw_hercules_data = MsgSaver()\n",
    "normalized_hercules_data = MsgSaver()"
   ]
  },
  {
   "cell_type": "code",
   "execution_count": 5,
   "id": "c1461700",
   "metadata": {},
   "outputs": [],
   "source": [
    "from typing import TypeVar\n",
    "import numpy as np\n",
    "import bqplot as bq\n",
    "from rclpy.node import Node\n",
    "\n",
    "class MsgPublisher(jr.Publisher):\n",
    "    def __init__(self, node: Node, msg_type, topic: str) -> None:\n",
    "        super().__init__(node, msg_type, topic)\n",
    "        \n",
    "    def send_msg(self, msg) -> None:\n",
    "        self._Publisher__publisher.publish(msg)\n",
    "        "
   ]
  },
  {
   "cell_type": "code",
   "execution_count": 54,
   "id": "3de035fd",
   "metadata": {},
   "outputs": [],
   "source": [
    "msg_publisher_raw = MsgPublisher(sonar_processed_saver_raw, SonarProcessed, '/sonar_processed')\n",
    "msg_publisher_norm = MsgPublisher(sonar_processed_saver_norm, SonarProcessed, '/sonar_processed')"
   ]
  },
  {
   "cell_type": "code",
   "execution_count": 7,
   "id": "0e0f9154",
   "metadata": {},
   "outputs": [
    {
     "data": {
      "application/vnd.jupyter.widget-view+json": {
       "model_id": "211b37aed7c1477cadfd25d56d9b4053",
       "version_major": 2,
       "version_minor": 0
      },
      "text/plain": [
       "VBox(children=(HBox(children=(Button(description='Start', style=ButtonStyle()), Button(description='Stop', sty…"
      ]
     },
     "metadata": {},
     "output_type": "display_data"
    }
   ],
   "source": [
    "jr.Subscriber(sonar_processed_saver_raw, SonarProcessed, '/sonar_processed', raw_hercules_data.save_msg).display()"
   ]
  },
  {
   "cell_type": "code",
   "execution_count": 8,
   "id": "aa0a3c3c",
   "metadata": {},
   "outputs": [
    {
     "data": {
      "application/vnd.jupyter.widget-view+json": {
       "model_id": "e97a239b17ad43688f61a04ea4216a2e",
       "version_major": 2,
       "version_minor": 0
      },
      "text/plain": [
       "VBox(children=(HBox(children=(Button(description='Start', style=ButtonStyle()), Button(description='Stop', sty…"
      ]
     },
     "metadata": {},
     "output_type": "display_data"
    }
   ],
   "source": [
    "jr.Subscriber(sonar_processed_saver_norm, SonarProcessed, '/sonar_processed', normalized_hercules_data.save_msg).display()"
   ]
  },
  {
   "cell_type": "code",
   "execution_count": 114,
   "id": "993510c3",
   "metadata": {},
   "outputs": [],
   "source": [
    "n_pub = 0\n",
    "for msg in normalized_hercules_data.msgs:\n",
    "    msg_publisher_norm.send_msg(msg)\n",
    "    n_pub += 1\n",
    "    sleep(0.01)"
   ]
  },
  {
   "cell_type": "code",
   "execution_count": 97,
   "id": "658aa296",
   "metadata": {},
   "outputs": [],
   "source": [
    "n_pub = 0\n",
    "for msg in raw_hercules_data.msgs:\n",
    "    msg_publisher_raw.send_msg(msg)\n",
    "    n_pub += 1\n",
    "    sleep(0.01)"
   ]
  },
  {
   "cell_type": "code",
   "execution_count": 61,
   "id": "a38cd886",
   "metadata": {},
   "outputs": [
    {
     "data": {
      "text/plain": [
       "18419"
      ]
     },
     "execution_count": 61,
     "metadata": {},
     "output_type": "execute_result"
    }
   ],
   "source": [
    "len(raw_hercules_data.msgs)"
   ]
  },
  {
   "cell_type": "code",
   "execution_count": 62,
   "id": "34c110ee",
   "metadata": {},
   "outputs": [
    {
     "data": {
      "text/plain": [
       "18429"
      ]
     },
     "execution_count": 62,
     "metadata": {},
     "output_type": "execute_result"
    }
   ],
   "source": [
    "len(normalized_hercules_data.msgs)"
   ]
  }
 ],
 "metadata": {
  "kernelspec": {
   "display_name": "Python 3 (ipykernel)",
   "language": "python",
   "name": "python3"
  },
  "language_info": {
   "codemirror_mode": {
    "name": "ipython",
    "version": 3
   },
   "file_extension": ".py",
   "mimetype": "text/x-python",
   "name": "python",
   "nbconvert_exporter": "python",
   "pygments_lexer": "ipython3",
   "version": "3.8.10"
  }
 },
 "nbformat": 4,
 "nbformat_minor": 5
}
