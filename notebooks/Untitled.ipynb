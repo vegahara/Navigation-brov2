{
 "cells": [
  {
   "cell_type": "code",
   "execution_count": 1,
   "id": "bff90549",
   "metadata": {},
   "outputs": [],
   "source": [
    "%matplotlib notebook\n",
    "\n",
    "import numpy as np\n",
    "import matplotlib.pyplot as plt\n",
    "from time import sleep\n",
    "\n",
    "import jupyros as jr \n",
    "import rclpy as rp\n",
    "\n",
    "from geometry_msgs.msg import Pose\n",
    "\n",
    "from brov2_landmark_detector import landmark_detector_1D_node as node\n",
    "from brov2_interfaces.msg import SonarProcessed"
   ]
  },
  {
   "cell_type": "code",
   "execution_count": 2,
   "id": "6d618428",
   "metadata": {},
   "outputs": [],
   "source": [
    "rp.init()\n",
    "sonar_processed_saver = rp.create_node(\"sonar_processed_saver\")"
   ]
  },
  {
   "cell_type": "code",
   "execution_count": 3,
   "id": "a929efea",
   "metadata": {},
   "outputs": [],
   "source": [
    "class MsgSaver:\n",
    "    def __init__(self):\n",
    "        self.msgs = []\n",
    "        \n",
    "    def save_msg(self, msg):\n",
    "        self.msgs.append(msg)"
   ]
  },
  {
   "cell_type": "code",
   "execution_count": 4,
   "id": "0877e994",
   "metadata": {},
   "outputs": [],
   "source": [
    "msg_saver = MsgSaver()"
   ]
  },
  {
   "cell_type": "code",
   "execution_count": 5,
   "id": "bcdcece9",
   "metadata": {},
   "outputs": [],
   "source": [
    "from typing import TypeVar\n",
    "import numpy as np\n",
    "import bqplot as bq\n",
    "from rclpy.node import Node\n",
    "\n",
    "class MsgPublisher(jr.Publisher):\n",
    "    def __init__(self, node: Node, msg_type, topic: str) -> None:\n",
    "        super().__init__(node, msg_type, topic)\n",
    "        \n",
    "    def send_msg(self, msg) -> None:\n",
    "        self._Publisher__publisher.publish(msg)\n",
    "        "
   ]
  },
  {
   "cell_type": "code",
   "execution_count": 6,
   "id": "623e14c8",
   "metadata": {},
   "outputs": [],
   "source": [
    "msg_publisher = MsgPublisher(sonar_processed_saver, SonarProcessed, '/sonar_processed')"
   ]
  },
  {
   "cell_type": "code",
   "execution_count": 7,
   "id": "9cb458b7",
   "metadata": {},
   "outputs": [
    {
     "data": {
      "application/vnd.jupyter.widget-view+json": {
       "model_id": "f4d4f232ca2148c3911b71fcb433b56c",
       "version_major": 2,
       "version_minor": 0
      },
      "text/plain": [
       "VBox(children=(HBox(children=(Button(description='Start', style=ButtonStyle()), Button(description='Stop', sty…"
      ]
     },
     "metadata": {},
     "output_type": "display_data"
    }
   ],
   "source": [
    "jr.Subscriber(sonar_processed_saver, SonarProcessed, '/sonar_processed', msg_saver.save_msg).display()"
   ]
  },
  {
   "cell_type": "code",
   "execution_count": null,
   "id": "1f4ce34c",
   "metadata": {},
   "outputs": [],
   "source": [
    "for msg in msg_saver.msgs:\n",
    "    msg_publisher.send_msg(msg)\n",
    "    sleep(0.1)\n",
    "    "
   ]
  },
  {
   "cell_type": "code",
   "execution_count": 12,
   "id": "b2f74b92",
   "metadata": {},
   "outputs": [
    {
     "data": {
      "text/plain": [
       "1005"
      ]
     },
     "execution_count": 12,
     "metadata": {},
     "output_type": "execute_result"
    }
   ],
   "source": [
    "len(msg_saver.msgs)"
   ]
  }
 ],
 "metadata": {
  "kernelspec": {
   "display_name": "Python 3 (ipykernel)",
   "language": "python",
   "name": "python3"
  },
  "language_info": {
   "codemirror_mode": {
    "name": "ipython",
    "version": 3
   },
   "file_extension": ".py",
   "mimetype": "text/x-python",
   "name": "python",
   "nbconvert_exporter": "python",
   "pygments_lexer": "ipython3",
   "version": "3.8.10"
  }
 },
 "nbformat": 4,
 "nbformat_minor": 5
}
